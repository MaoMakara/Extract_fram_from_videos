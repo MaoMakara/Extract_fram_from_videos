{
 "cells": [
  {
   "cell_type": "code",
   "execution_count": 16,
   "id": "383cefc6",
   "metadata": {},
   "outputs": [],
   "source": [
    "import cv2\n",
    "import os"
   ]
  },
  {
   "cell_type": "code",
   "execution_count": 17,
   "id": "71b9655f",
   "metadata": {},
   "outputs": [
    {
     "name": "stdout",
     "output_type": "stream",
     "text": [
      "221\n"
     ]
    }
   ],
   "source": [
    "#count frame in video\n",
    "cap = cv2.VideoCapture(\"./Videos/ShavingBeard.avi\")\n",
    "property_id = int(cv2.CAP_PROP_FRAME_COUNT) \n",
    "length = int(cv2.VideoCapture.get(cap, property_id))\n",
    "print( length )"
   ]
  },
  {
   "cell_type": "code",
   "execution_count": 24,
   "id": "49e67eea",
   "metadata": {},
   "outputs": [
    {
     "name": "stdout",
     "output_type": "stream",
     "text": [
      "True\n"
     ]
    }
   ],
   "source": [
    "# save frame as JPEG file  \n",
    "vidcap = cv2.VideoCapture('./videos/ShavingBeard.avi')\n",
    "success,image = vidcap.read()\n",
    "count = 0\n",
    "while success:\n",
    "  cv2.imwrite('./frams/' + \"frame%d.jpg\" % count, image)    \n",
    "  success,image = vidcap.read()\n",
    "  count += 1"
   ]
  },
  {
   "cell_type": "code",
   "execution_count": null,
   "id": "126945fd",
   "metadata": {},
   "outputs": [],
   "source": []
  }
 ],
 "metadata": {
  "kernelspec": {
   "display_name": "Python 3 (ipykernel)",
   "language": "python",
   "name": "python3"
  },
  "language_info": {
   "codemirror_mode": {
    "name": "ipython",
    "version": 3
   },
   "file_extension": ".py",
   "mimetype": "text/x-python",
   "name": "python",
   "nbconvert_exporter": "python",
   "pygments_lexer": "ipython3",
   "version": "3.9.7"
  }
 },
 "nbformat": 4,
 "nbformat_minor": 5
}
